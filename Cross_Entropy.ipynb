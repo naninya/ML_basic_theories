{
 "cells": [
  {
   "cell_type": "markdown",
   "id": "b5ed90e1",
   "metadata": {},
   "source": [
    "# Test Cross Entropy"
   ]
  },
  {
   "cell_type": "code",
   "execution_count": 2,
   "id": "add98a87",
   "metadata": {},
   "outputs": [
    {
     "name": "stdout",
     "output_type": "stream",
     "text": [
      "-- Correct case --\n",
      "CEE : 0.1053604045467214\n",
      "-- Error case --\n",
      "CEE : 16.11809565095832\n"
     ]
    }
   ],
   "source": [
    "import numpy as np\n",
    "def crossEntropyError(y_pred, y_true): \n",
    "    delta = 1e-7\n",
    "    return -np.sum(y_true * np.log(y_pred + delta))\n",
    "t = np.array([0, 0, 0, 0, 1, 0, 0, 0, 0, 0]) # label = 5\n",
    "y = np.array([0.1, 0.03, 0.05, 0.2, 0.9, 0.0, 0.1, 0.2, 0.12, 0.03]) \n",
    "print(\"-- Correct case --\") \n",
    "print(\"CEE :\", crossEntropyError(y, t)) \n",
    "y = np.array([0.1, 0.03, 0.05, 0.2, 0.0, 0.1, 0.2, 0.12, 0.03, 0.9]) \n",
    "print(\"-- Error case --\") \n",
    "print(\"CEE :\", crossEntropyError(y, t))"
   ]
  }
 ],
 "metadata": {
  "kernelspec": {
   "display_name": "Python 3 (ipykernel)",
   "language": "python",
   "name": "python3"
  },
  "language_info": {
   "codemirror_mode": {
    "name": "ipython",
    "version": 3
   },
   "file_extension": ".py",
   "mimetype": "text/x-python",
   "name": "python",
   "nbconvert_exporter": "python",
   "pygments_lexer": "ipython3",
   "version": "3.7.9"
  }
 },
 "nbformat": 4,
 "nbformat_minor": 5
}

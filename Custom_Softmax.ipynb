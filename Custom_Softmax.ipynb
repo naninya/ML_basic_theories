{
 "cells": [
  {
   "cell_type": "markdown",
   "id": "9c3828bb",
   "metadata": {},
   "source": [
    "- target: Using softmax\n"
   ]
  },
  {
   "cell_type": "code",
   "execution_count": 1,
   "id": "f8e939c9",
   "metadata": {},
   "outputs": [],
   "source": [
    "def base_softmax(arr):\n",
    "    exp_arr = np.exp(arr)\n",
    "    sum_exp_arr = np.sum(exp_arr)\n",
    "    y = exp_arr / sum_exp_arr\n",
    "    return y"
   ]
  },
  {
   "cell_type": "markdown",
   "id": "b3e6fe63",
   "metadata": {},
   "source": [
    "# Import"
   ]
  },
  {
   "cell_type": "code",
   "execution_count": 2,
   "id": "f38e03b8",
   "metadata": {},
   "outputs": [],
   "source": [
    "import numpy as np\n",
    "import pandas as pd\n",
    "from sklearn.datasets import load_iris\n",
    "from sklearn.model_selection import train_test_split\n",
    "from tensorflow.keras.utils import to_categorical\n",
    "import tensorflow as tf\n",
    "import tensorflow.keras.layers as KL\n",
    "import tensorflow.keras.models as KM\n",
    "import tensorflow.keras.backend as K\n",
    "from tensorflow.keras.callbacks import EarlyStopping, ModelCheckpoint\n",
    "\n",
    "import matplotlib.pyplot as plt"
   ]
  },
  {
   "cell_type": "markdown",
   "id": "41809ccd",
   "metadata": {},
   "source": [
    "# Load Data & Read description"
   ]
  },
  {
   "cell_type": "code",
   "execution_count": 3,
   "id": "921c0def",
   "metadata": {},
   "outputs": [],
   "source": [
    "data = load_iris()"
   ]
  },
  {
   "cell_type": "code",
   "execution_count": 4,
   "id": "d13af5e7",
   "metadata": {},
   "outputs": [
    {
     "data": {
      "text/plain": [
       "dict_keys(['data', 'target', 'frame', 'target_names', 'DESCR', 'feature_names', 'filename'])"
      ]
     },
     "execution_count": 4,
     "metadata": {},
     "output_type": "execute_result"
    }
   ],
   "source": [
    "data.keys()"
   ]
  },
  {
   "cell_type": "code",
   "execution_count": 5,
   "id": "808af9db",
   "metadata": {},
   "outputs": [
    {
     "name": "stdout",
     "output_type": "stream",
     "text": [
      ".. _iris_dataset:\n",
      "\n",
      "Iris plants dataset\n",
      "--------------------\n",
      "\n",
      "**Data Set Characteristics:**\n",
      "\n",
      "    :Number of Instances: 150 (50 in each of three classes)\n",
      "    :Number of Attributes: 4 numeric, predictive attributes and the class\n",
      "    :Attribute Information:\n",
      "        - sepal length in cm\n",
      "        - sepal width in cm\n",
      "        - petal length in cm\n",
      "        - petal width in cm\n",
      "        - class:\n",
      "                - Iris-Setosa\n",
      "                - Iris-Versicolour\n",
      "                - Iris-Virginica\n",
      "                \n",
      "    :Summary Statistics:\n",
      "\n",
      "    ============== ==== ==== ======= ===== ====================\n",
      "                    Min  Max   Mean    SD   Class Correlation\n",
      "    ============== ==== ==== ======= ===== ====================\n",
      "    sepal length:   4.3  7.9   5.84   0.83    0.7826\n",
      "    sepal width:    2.0  4.4   3.05   0.43   -0.4194\n",
      "    petal length:   1.0  6.9   3.76   1.76    0.9490  (high!)\n",
      "    petal width:    0.1  2.5   1.20   0.76    0.9565  (high!)\n",
      "    ============== ==== ==== ======= ===== ====================\n",
      "\n",
      "    :Missing Attribute Values: None\n",
      "    :Class Distribution: 33.3% for each of 3 classes.\n",
      "    :Creator: R.A. Fisher\n",
      "    :Donor: Michael Marshall (MARSHALL%PLU@io.arc.nasa.gov)\n",
      "    :Date: July, 1988\n",
      "\n",
      "The famous Iris database, first used by Sir R.A. Fisher. The dataset is taken\n",
      "from Fisher's paper. Note that it's the same as in R, but not as in the UCI\n",
      "Machine Learning Repository, which has two wrong data points.\n",
      "\n",
      "This is perhaps the best known database to be found in the\n",
      "pattern recognition literature.  Fisher's paper is a classic in the field and\n",
      "is referenced frequently to this day.  (See Duda & Hart, for example.)  The\n",
      "data set contains 3 classes of 50 instances each, where each class refers to a\n",
      "type of iris plant.  One class is linearly separable from the other 2; the\n",
      "latter are NOT linearly separable from each other.\n",
      "\n",
      ".. topic:: References\n",
      "\n",
      "   - Fisher, R.A. \"The use of multiple measurements in taxonomic problems\"\n",
      "     Annual Eugenics, 7, Part II, 179-188 (1936); also in \"Contributions to\n",
      "     Mathematical Statistics\" (John Wiley, NY, 1950).\n",
      "   - Duda, R.O., & Hart, P.E. (1973) Pattern Classification and Scene Analysis.\n",
      "     (Q327.D83) John Wiley & Sons.  ISBN 0-471-22361-1.  See page 218.\n",
      "   - Dasarathy, B.V. (1980) \"Nosing Around the Neighborhood: A New System\n",
      "     Structure and Classification Rule for Recognition in Partially Exposed\n",
      "     Environments\".  IEEE Transactions on Pattern Analysis and Machine\n",
      "     Intelligence, Vol. PAMI-2, No. 1, 67-71.\n",
      "   - Gates, G.W. (1972) \"The Reduced Nearest Neighbor Rule\".  IEEE Transactions\n",
      "     on Information Theory, May 1972, 431-433.\n",
      "   - See also: 1988 MLC Proceedings, 54-64.  Cheeseman et al\"s AUTOCLASS II\n",
      "     conceptual clustering system finds 3 classes in the data.\n",
      "   - Many, many more ...\n"
     ]
    }
   ],
   "source": [
    "print(data[\"DESCR\"])"
   ]
  },
  {
   "cell_type": "code",
   "execution_count": 6,
   "id": "ccddc50b",
   "metadata": {},
   "outputs": [
    {
     "data": {
      "text/html": [
       "<div>\n",
       "<style scoped>\n",
       "    .dataframe tbody tr th:only-of-type {\n",
       "        vertical-align: middle;\n",
       "    }\n",
       "\n",
       "    .dataframe tbody tr th {\n",
       "        vertical-align: top;\n",
       "    }\n",
       "\n",
       "    .dataframe thead th {\n",
       "        text-align: right;\n",
       "    }\n",
       "</style>\n",
       "<table border=\"1\" class=\"dataframe\">\n",
       "  <thead>\n",
       "    <tr style=\"text-align: right;\">\n",
       "      <th></th>\n",
       "      <th>sepal length (cm)</th>\n",
       "      <th>sepal width (cm)</th>\n",
       "      <th>petal length (cm)</th>\n",
       "      <th>petal width (cm)</th>\n",
       "      <th>target</th>\n",
       "    </tr>\n",
       "  </thead>\n",
       "  <tbody>\n",
       "    <tr>\n",
       "      <th>0</th>\n",
       "      <td>5.1</td>\n",
       "      <td>3.5</td>\n",
       "      <td>1.4</td>\n",
       "      <td>0.2</td>\n",
       "      <td>0</td>\n",
       "    </tr>\n",
       "    <tr>\n",
       "      <th>1</th>\n",
       "      <td>4.9</td>\n",
       "      <td>3.0</td>\n",
       "      <td>1.4</td>\n",
       "      <td>0.2</td>\n",
       "      <td>0</td>\n",
       "    </tr>\n",
       "    <tr>\n",
       "      <th>2</th>\n",
       "      <td>4.7</td>\n",
       "      <td>3.2</td>\n",
       "      <td>1.3</td>\n",
       "      <td>0.2</td>\n",
       "      <td>0</td>\n",
       "    </tr>\n",
       "    <tr>\n",
       "      <th>3</th>\n",
       "      <td>4.6</td>\n",
       "      <td>3.1</td>\n",
       "      <td>1.5</td>\n",
       "      <td>0.2</td>\n",
       "      <td>0</td>\n",
       "    </tr>\n",
       "    <tr>\n",
       "      <th>4</th>\n",
       "      <td>5.0</td>\n",
       "      <td>3.6</td>\n",
       "      <td>1.4</td>\n",
       "      <td>0.2</td>\n",
       "      <td>0</td>\n",
       "    </tr>\n",
       "    <tr>\n",
       "      <th>...</th>\n",
       "      <td>...</td>\n",
       "      <td>...</td>\n",
       "      <td>...</td>\n",
       "      <td>...</td>\n",
       "      <td>...</td>\n",
       "    </tr>\n",
       "    <tr>\n",
       "      <th>145</th>\n",
       "      <td>6.7</td>\n",
       "      <td>3.0</td>\n",
       "      <td>5.2</td>\n",
       "      <td>2.3</td>\n",
       "      <td>2</td>\n",
       "    </tr>\n",
       "    <tr>\n",
       "      <th>146</th>\n",
       "      <td>6.3</td>\n",
       "      <td>2.5</td>\n",
       "      <td>5.0</td>\n",
       "      <td>1.9</td>\n",
       "      <td>2</td>\n",
       "    </tr>\n",
       "    <tr>\n",
       "      <th>147</th>\n",
       "      <td>6.5</td>\n",
       "      <td>3.0</td>\n",
       "      <td>5.2</td>\n",
       "      <td>2.0</td>\n",
       "      <td>2</td>\n",
       "    </tr>\n",
       "    <tr>\n",
       "      <th>148</th>\n",
       "      <td>6.2</td>\n",
       "      <td>3.4</td>\n",
       "      <td>5.4</td>\n",
       "      <td>2.3</td>\n",
       "      <td>2</td>\n",
       "    </tr>\n",
       "    <tr>\n",
       "      <th>149</th>\n",
       "      <td>5.9</td>\n",
       "      <td>3.0</td>\n",
       "      <td>5.1</td>\n",
       "      <td>1.8</td>\n",
       "      <td>2</td>\n",
       "    </tr>\n",
       "  </tbody>\n",
       "</table>\n",
       "<p>150 rows × 5 columns</p>\n",
       "</div>"
      ],
      "text/plain": [
       "     sepal length (cm)  sepal width (cm)  petal length (cm)  petal width (cm)  \\\n",
       "0                  5.1               3.5                1.4               0.2   \n",
       "1                  4.9               3.0                1.4               0.2   \n",
       "2                  4.7               3.2                1.3               0.2   \n",
       "3                  4.6               3.1                1.5               0.2   \n",
       "4                  5.0               3.6                1.4               0.2   \n",
       "..                 ...               ...                ...               ...   \n",
       "145                6.7               3.0                5.2               2.3   \n",
       "146                6.3               2.5                5.0               1.9   \n",
       "147                6.5               3.0                5.2               2.0   \n",
       "148                6.2               3.4                5.4               2.3   \n",
       "149                5.9               3.0                5.1               1.8   \n",
       "\n",
       "     target  \n",
       "0         0  \n",
       "1         0  \n",
       "2         0  \n",
       "3         0  \n",
       "4         0  \n",
       "..      ...  \n",
       "145       2  \n",
       "146       2  \n",
       "147       2  \n",
       "148       2  \n",
       "149       2  \n",
       "\n",
       "[150 rows x 5 columns]"
      ]
     },
     "execution_count": 6,
     "metadata": {},
     "output_type": "execute_result"
    }
   ],
   "source": [
    "df = pd.DataFrame(data[\"data\"], columns=data[\"feature_names\"])\n",
    "df[\"target\"] = data[\"target\"]\n",
    "df"
   ]
  },
  {
   "cell_type": "markdown",
   "id": "570eef89",
   "metadata": {},
   "source": [
    "# Define feature / target - one-hot encoding"
   ]
  },
  {
   "cell_type": "code",
   "execution_count": 7,
   "id": "b8f272e6",
   "metadata": {},
   "outputs": [],
   "source": [
    "feature_data = df.drop(\"target\", axis=1)\n",
    "target_data = pd.get_dummies(df[\"target\"])"
   ]
  },
  {
   "cell_type": "markdown",
   "id": "10a96b20",
   "metadata": {},
   "source": [
    "# Split train test"
   ]
  },
  {
   "cell_type": "code",
   "execution_count": 8,
   "id": "efc8f135",
   "metadata": {},
   "outputs": [],
   "source": [
    "train_X, test_X, train_y, test_y = train_test_split(feature_data, target_data, test_size=0.2, random_state=0)"
   ]
  },
  {
   "cell_type": "markdown",
   "id": "5e0ff8ae",
   "metadata": {},
   "source": [
    "# Stacking DL layers"
   ]
  },
  {
   "cell_type": "code",
   "execution_count": 9,
   "id": "acabc4f9",
   "metadata": {},
   "outputs": [
    {
     "name": "stdout",
     "output_type": "stream",
     "text": [
      "Model: \"model_1\"\n",
      "_________________________________________________________________\n",
      "Layer (type)                 Output Shape              Param #   \n",
      "=================================================================\n",
      "input_2 (InputLayer)         [(None, 4)]               0         \n",
      "_________________________________________________________________\n",
      "dense_4 (Dense)              (None, 512)               2560      \n",
      "_________________________________________________________________\n",
      "dense_5 (Dense)              (None, 512)               262656    \n",
      "_________________________________________________________________\n",
      "dense_6 (Dense)              (None, 512)               262656    \n",
      "_________________________________________________________________\n",
      "dense_7 (Dense)              (None, 3)                 1539      \n",
      "=================================================================\n",
      "Total params: 529,411\n",
      "Trainable params: 529,411\n",
      "Non-trainable params: 0\n",
      "_________________________________________________________________\n"
     ]
    }
   ],
   "source": [
    "inputs = KL.Input(shape=(train_X.shape[-1]))\n",
    "x = KL.Dense(512, activation=\"relu\")(inputs)\n",
    "x = KL.Dense(512, activation=\"relu\")(x)\n",
    "x = KL.Dense(512, activation=\"relu\")(x)\n",
    "x = KL.Dense(test_y.shape[-1], activation=\"softmax\")(x)\n",
    "model = KM.Model(inputs, x)\n",
    "\n",
    "inputs = KL.Input(shape=(train_X.shape[-1]))\n",
    "x = KL.Dense(512, activation=\"relu\")(inputs)\n",
    "x = KL.Dense(512, activation=\"relu\")(x)\n",
    "x = KL.Dense(512, activation=\"relu\")(x)\n",
    "x = KL.Dense(test_y.shape[-1], activation=\"softmax\")(x)\n",
    "model_custom_loss = KM.Model(inputs, x)\n",
    "model_custom_loss.summary()"
   ]
  },
  {
   "cell_type": "markdown",
   "id": "4e6b79a9",
   "metadata": {},
   "source": [
    "# Define Loss"
   ]
  },
  {
   "cell_type": "code",
   "execution_count": 10,
   "id": "8d5d7bd1",
   "metadata": {},
   "outputs": [],
   "source": [
    "class CustomCategoricalCrossEntropy(tf.keras.losses.Loss):\n",
    "    def __init__(self):\n",
    "        super().__init__()\n",
    "    \n",
    "    def call(self, y_pred, y_true):\n",
    "        delta = 1e-7\n",
    "        loss = -K.sum(y_true * K.log(K.l2_normalize(K.cast(y_pred, tf.float32), axis=0) + delta))\n",
    "        return loss"
   ]
  },
  {
   "cell_type": "code",
   "execution_count": 11,
   "id": "fb53152e",
   "metadata": {},
   "outputs": [],
   "source": [
    "? tf.keras.losses.CategoricalCrossentropy"
   ]
  },
  {
   "cell_type": "markdown",
   "id": "740113ef",
   "metadata": {},
   "source": [
    "# Callbacks"
   ]
  },
  {
   "cell_type": "code",
   "execution_count": 12,
   "id": "9b293846",
   "metadata": {},
   "outputs": [],
   "source": [
    "callbacks = [\n",
    "    EarlyStopping(\n",
    "        monitor='val_loss',\n",
    "        min_delta=0,\n",
    "        patience=3,\n",
    "        verbose=0,\n",
    "        mode='auto'\n",
    "    ),\n",
    "    ModelCheckpoint(\n",
    "        filepath='./model.h5',\n",
    "        verbose=1,\n",
    "        save_best_only=True\n",
    "    )\n",
    "]\n",
    "model.compile(\n",
    "    loss=CustomCategoricalCrossEntropy(),\n",
    "    optimizer=\"adam\",\n",
    "    metrics=[\"accuracy\"],\n",
    "    loss_weights=None,\n",
    "    sample_weight_mode=None,\n",
    "    weighted_metrics=None,\n",
    "    target_tensors=None\n",
    ")\n",
    "\n",
    "model_custom_loss.compile(\n",
    "    loss=tf.keras.losses.CategoricalCrossentropy(),\n",
    "    optimizer=\"adam\",\n",
    "    metrics=[\"accuracy\"],\n",
    "    loss_weights=None,\n",
    "    sample_weight_mode=None,\n",
    "    weighted_metrics=None,\n",
    "    target_tensors=None\n",
    ")"
   ]
  },
  {
   "cell_type": "markdown",
   "id": "2fe93b28",
   "metadata": {},
   "source": [
    "# Fitting"
   ]
  },
  {
   "cell_type": "code",
   "execution_count": 13,
   "id": "81d62004",
   "metadata": {
    "scrolled": true
   },
   "outputs": [
    {
     "name": "stdout",
     "output_type": "stream",
     "text": [
      "Train on 108 samples, validate on 12 samples\n",
      "Epoch 1/30\n",
      " 16/108 [===>..........................] - ETA: 3s - loss: 173.3669 - accuracy: 0.3750\n",
      "Epoch 00001: val_loss improved from inf to 96.56858, saving model to ./model.h5\n",
      "108/108 [==============================] - 1s 7ms/sample - loss: 148.1734 - accuracy: 0.4722 - val_loss: 96.5686 - val_accuracy: 0.5833\n",
      "Epoch 2/30\n",
      " 16/108 [===>..........................] - ETA: 0s - loss: 120.5034 - accuracy: 0.6875\n",
      "Epoch 00002: val_loss improved from 96.56858 to 86.25201, saving model to ./model.h5\n",
      "108/108 [==============================] - 0s 630us/sample - loss: 94.5967 - accuracy: 0.7037 - val_loss: 86.2520 - val_accuracy: 0.5833\n",
      "Epoch 3/30\n",
      " 16/108 [===>..........................] - ETA: 0s - loss: 76.1611 - accuracy: 0.7500\n",
      "Epoch 00003: val_loss improved from 86.25201 to 85.31454, saving model to ./model.h5\n",
      "108/108 [==============================] - 0s 639us/sample - loss: 84.4107 - accuracy: 0.7037 - val_loss: 85.3145 - val_accuracy: 0.5833\n",
      "Epoch 4/30\n",
      " 16/108 [===>..........................] - ETA: 0s - loss: 104.8937 - accuracy: 0.6250\n",
      "Epoch 00004: val_loss improved from 85.31454 to 85.29198, saving model to ./model.h5\n",
      "108/108 [==============================] - 0s 623us/sample - loss: 83.1123 - accuracy: 0.7037 - val_loss: 85.2920 - val_accuracy: 0.5833\n",
      "Epoch 5/30\n",
      " 16/108 [===>..........................] - ETA: 0s - loss: 75.5904 - accuracy: 0.7500\n",
      "Epoch 00005: val_loss improved from 85.29198 to 85.27159, saving model to ./model.h5\n",
      "108/108 [==============================] - 0s 635us/sample - loss: 84.1278 - accuracy: 0.7037 - val_loss: 85.2716 - val_accuracy: 0.5833\n",
      "Epoch 6/30\n",
      " 16/108 [===>..........................] - ETA: 0s - loss: 75.5200 - accuracy: 0.7500\n",
      "Epoch 00006: val_loss improved from 85.27159 to 84.71386, saving model to ./model.h5\n",
      "108/108 [==============================] - 0s 642us/sample - loss: 83.5154 - accuracy: 0.7037 - val_loss: 84.7139 - val_accuracy: 0.5833\n",
      "Epoch 7/30\n",
      " 16/108 [===>..........................] - ETA: 0s - loss: 118.5876 - accuracy: 0.5625\n",
      "Epoch 00007: val_loss improved from 84.71386 to 28.75063, saving model to ./model.h5\n",
      "108/108 [==============================] - 0s 778us/sample - loss: 69.3824 - accuracy: 0.7870 - val_loss: 28.7506 - val_accuracy: 1.0000\n",
      "Epoch 8/30\n",
      " 16/108 [===>..........................] - ETA: 0s - loss: 48.7605 - accuracy: 1.0000\n",
      "Epoch 00008: val_loss improved from 28.75063 to 19.69050, saving model to ./model.h5\n",
      "108/108 [==============================] - 0s 595us/sample - loss: 47.8453 - accuracy: 0.9259 - val_loss: 19.6905 - val_accuracy: 1.0000\n",
      "Epoch 9/30\n",
      " 16/108 [===>..........................] - ETA: 0s - loss: 43.8380 - accuracy: 1.0000\n",
      "Epoch 00009: val_loss improved from 19.69050 to 18.76867, saving model to ./model.h5\n",
      "108/108 [==============================] - 0s 601us/sample - loss: 41.7381 - accuracy: 0.9167 - val_loss: 18.7687 - val_accuracy: 1.0000\n",
      "Epoch 10/30\n",
      " 16/108 [===>..........................] - ETA: 0s - loss: 52.6846 - accuracy: 0.8750\n",
      "Epoch 00010: val_loss improved from 18.76867 to 12.87680, saving model to ./model.h5\n",
      "108/108 [==============================] - 0s 617us/sample - loss: 52.1777 - accuracy: 0.8426 - val_loss: 12.8768 - val_accuracy: 1.0000\n",
      "Epoch 11/30\n",
      " 16/108 [===>..........................] - ETA: 0s - loss: 34.6641 - accuracy: 0.9375\n",
      "Epoch 00011: val_loss did not improve from 12.87680\n",
      "108/108 [==============================] - 0s 324us/sample - loss: 29.3805 - accuracy: 0.9537 - val_loss: 19.3025 - val_accuracy: 0.9167\n",
      "Epoch 12/30\n",
      " 16/108 [===>..........................] - ETA: 0s - loss: 32.8891 - accuracy: 0.9375\n",
      "Epoch 00012: val_loss did not improve from 12.87680\n",
      "108/108 [==============================] - 0s 333us/sample - loss: 26.4891 - accuracy: 0.9630 - val_loss: 26.2459 - val_accuracy: 0.9167\n",
      "Epoch 13/30\n",
      " 16/108 [===>..........................] - ETA: 0s - loss: 24.6209 - accuracy: 0.9375\n",
      "Epoch 00013: val_loss did not improve from 12.87680\n",
      "108/108 [==============================] - 0s 315us/sample - loss: 28.5540 - accuracy: 0.9630 - val_loss: 41.8644 - val_accuracy: 0.8333\n",
      "Train on 108 samples, validate on 12 samples\n",
      "Epoch 1/30\n",
      " 16/108 [===>..........................] - ETA: 1s - loss: 1.0857 - accuracy: 0.2500\n",
      "Epoch 00001: val_loss improved from 12.87680 to 0.80111, saving model to ./model.h5\n",
      "108/108 [==============================] - 0s 4ms/sample - loss: 1.0016 - accuracy: 0.5556 - val_loss: 0.8011 - val_accuracy: 0.5833\n",
      "Epoch 2/30\n",
      " 16/108 [===>..........................] - ETA: 0s - loss: 0.5286 - accuracy: 0.8125\n",
      "Epoch 00002: val_loss improved from 0.80111 to 0.34687, saving model to ./model.h5\n",
      "108/108 [==============================] - 0s 685us/sample - loss: 0.5112 - accuracy: 0.7685 - val_loss: 0.3469 - val_accuracy: 1.0000\n",
      "Epoch 3/30\n",
      " 16/108 [===>..........................] - ETA: 0s - loss: 0.4538 - accuracy: 0.8750\n",
      "Epoch 00003: val_loss improved from 0.34687 to 0.25519, saving model to ./model.h5\n",
      "108/108 [==============================] - 0s 732us/sample - loss: 0.3565 - accuracy: 0.8981 - val_loss: 0.2552 - val_accuracy: 0.9167\n",
      "Epoch 4/30\n",
      " 16/108 [===>..........................] - ETA: 0s - loss: 0.2062 - accuracy: 1.0000\n",
      "Epoch 00004: val_loss improved from 0.25519 to 0.14448, saving model to ./model.h5\n",
      "108/108 [==============================] - 0s 810us/sample - loss: 0.2489 - accuracy: 0.9444 - val_loss: 0.1445 - val_accuracy: 0.9167\n",
      "Epoch 5/30\n",
      " 16/108 [===>..........................] - ETA: 0s - loss: 0.2087 - accuracy: 1.0000\n",
      "Epoch 00005: val_loss improved from 0.14448 to 0.09317, saving model to ./model.h5\n",
      "108/108 [==============================] - 0s 593us/sample - loss: 0.1674 - accuracy: 0.9722 - val_loss: 0.0932 - val_accuracy: 1.0000\n",
      "Epoch 6/30\n",
      " 16/108 [===>..........................] - ETA: 0s - loss: 0.1655 - accuracy: 1.0000\n",
      "Epoch 00006: val_loss did not improve from 0.09317\n",
      "108/108 [==============================] - 0s 305us/sample - loss: 0.1232 - accuracy: 0.9815 - val_loss: 0.1502 - val_accuracy: 0.9167\n",
      "Epoch 7/30\n",
      " 16/108 [===>..........................] - ETA: 0s - loss: 0.0532 - accuracy: 1.0000\n",
      "Epoch 00007: val_loss did not improve from 0.09317\n",
      "108/108 [==============================] - 0s 306us/sample - loss: 0.1338 - accuracy: 0.9537 - val_loss: 0.3388 - val_accuracy: 0.9167\n",
      "Epoch 8/30\n",
      " 16/108 [===>..........................] - ETA: 0s - loss: 0.0493 - accuracy: 1.0000\n",
      "Epoch 00008: val_loss did not improve from 0.09317\n",
      "108/108 [==============================] - 0s 287us/sample - loss: 0.1480 - accuracy: 0.9444 - val_loss: 0.1244 - val_accuracy: 0.9167\n"
     ]
    }
   ],
   "source": [
    "hist = model.fit(\n",
    "    train_X.values,\n",
    "    train_y.values,\n",
    "    epochs=30,\n",
    "    callbacks=callbacks,\n",
    "    batch_size=16,\n",
    "    verbose=1,\n",
    "    validation_split=0.1,\n",
    "    validation_data=None,\n",
    "    shuffle=True,\n",
    "    class_weight=None,\n",
    "    sample_weight=None,\n",
    "    initial_epoch=0,\n",
    "    steps_per_epoch=None,\n",
    "    validation_steps=None\n",
    ")\n",
    "\n",
    "hist_custom_loss = model_custom_loss.fit(\n",
    "    train_X.values,\n",
    "    train_y.values,\n",
    "    epochs=30,\n",
    "    callbacks=callbacks,\n",
    "    batch_size=16,\n",
    "    verbose=1,\n",
    "    validation_split=0.1,\n",
    "    validation_data=None,\n",
    "    shuffle=True,\n",
    "    class_weight=None,\n",
    "    sample_weight=None,\n",
    "    initial_epoch=0,\n",
    "    steps_per_epoch=None,\n",
    "    validation_steps=None\n",
    ")"
   ]
  },
  {
   "cell_type": "code",
   "execution_count": 14,
   "id": "7d23d94b",
   "metadata": {},
   "outputs": [
    {
     "data": {
      "text/plain": [
       "<matplotlib.legend.Legend at 0x14cb3d4b208>"
      ]
     },
     "execution_count": 14,
     "metadata": {},
     "output_type": "execute_result"
    },
    {
     "data": {
      "image/png": "[encoded data removed]",
      "text/plain": [
       "<Figure size 1296x1296 with 4 Axes>"
      ]
     },
     "metadata": {
      "needs_background": "light"
     },
     "output_type": "display_data"
    }
   ],
   "source": [
    "fig = plt.figure(figsize=(18,18))\n",
    "\n",
    "\n",
    "# Plot training & validation accuracy values\n",
    "ax = fig.add_subplot(2, 2, 1)\n",
    "ax.plot(hist.history['accuracy'])\n",
    "ax.plot(hist.history['val_accuracy'])\n",
    "ax.set_title('Model accuracy')\n",
    "ax.set_ylabel('Accuracy')\n",
    "ax.set_xlabel('Epoch')\n",
    "ax.legend(['Train', 'Test'], loc='upper left')\n",
    "\n",
    "# Plot training & validation loss values\n",
    "ax = fig.add_subplot(2, 2, 2)\n",
    "ax.plot(hist.history['loss'])\n",
    "ax.plot(hist.history['val_loss'])\n",
    "ax.set_title('Model loss')\n",
    "ax.set_ylabel('Loss')\n",
    "ax.set_xlabel('Epoch')\n",
    "ax.legend(['Train', 'Test'], loc='upper left')\n",
    "\n",
    "# Plot training & validation accuracy values\n",
    "ax = fig.add_subplot(2, 2, 3)\n",
    "ax.plot(hist_custom_loss.history['accuracy'])\n",
    "ax.plot(hist_custom_loss.history['val_accuracy'])\n",
    "ax.set_title('Model accuracy_CL')\n",
    "ax.set_ylabel('Accuracy')\n",
    "ax.set_xlabel('Epoch')\n",
    "ax.legend(['Train', 'Test'], loc='upper left')\n",
    "\n",
    "# Plot training & validation loss values\n",
    "ax = fig.add_subplot(2, 2, 4)\n",
    "ax.plot(hist_custom_loss.history['loss'])\n",
    "ax.plot(hist_custom_loss.history['val_loss'])\n",
    "ax.set_title('Model loss_CL')\n",
    "ax.set_ylabel('Loss')\n",
    "ax.set_xlabel('Epoch')\n",
    "ax.legend(['Train', 'Test'], loc='upper left')"
   ]
  }
 ],
 "metadata": {
  "kernelspec": {
   "display_name": "Python 3 (ipykernel)",
   "language": "python",
   "name": "python3"
  },
  "language_info": {
   "codemirror_mode": {
    "name": "ipython",
    "version": 3
   },
   "file_extension": ".py",
   "mimetype": "text/x-python",
   "name": "python",
   "nbconvert_exporter": "python",
   "pygments_lexer": "ipython3",
   "version": "3.7.9"
  }
 },
 "nbformat": 4,
 "nbformat_minor": 5
}

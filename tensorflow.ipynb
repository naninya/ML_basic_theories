{
 "cells": [
  {
   "cell_type": "code",
   "execution_count": 1,
   "id": "f0d8a6e7",
   "metadata": {},
   "outputs": [],
   "source": [
    "import tensorflow as tf"
   ]
  },
  {
   "cell_type": "markdown",
   "id": "4df4b025",
   "metadata": {},
   "source": [
    "# Make matrix\n",
    "\n",
    "* The data type can be changed by typing [.]"
   ]
  },
  {
   "cell_type": "code",
   "execution_count": 8,
   "id": "c2f80fc2",
   "metadata": {},
   "outputs": [
    {
     "name": "stdout",
     "output_type": "stream",
     "text": [
      "tf.Tensor([[3. 3.]], shape=(1, 2), dtype=float32)\n",
      "tf.Tensor([[2. 2.]], shape=(1, 2), dtype=float32)\n"
     ]
    }
   ],
   "source": [
    "matrix_1 = tf.constant([[3., 3.]])\n",
    "matrix_2 = tf.constant([[2., 2.]])\n",
    "print(matrix_1)\n",
    "print(matrix_2)"
   ]
  },
  {
   "cell_type": "markdown",
   "id": "980cad32",
   "metadata": {},
   "source": [
    "# To numpy"
   ]
  },
  {
   "cell_type": "code",
   "execution_count": 14,
   "id": "2ed6292f",
   "metadata": {},
   "outputs": [
    {
     "name": "stdout",
     "output_type": "stream",
     "text": [
      "[[3. 3.]]\n",
      "[[2. 2.]]\n"
     ]
    }
   ],
   "source": [
    "print(matrix_1.numpy())\n",
    "print(matrix_2.numpy())"
   ]
  },
  {
   "cell_type": "markdown",
   "id": "3b2c6979",
   "metadata": {},
   "source": [
    "# Dot product\n",
    "* Can not calculate using diffrent type of data   \n",
    "ex) int32, float32"
   ]
  },
  {
   "cell_type": "code",
   "execution_count": 11,
   "id": "aa00e888",
   "metadata": {},
   "outputs": [
    {
     "data": {
      "text/plain": [
       "<tf.Tensor: id=10, shape=(1, 1), dtype=float32, numpy=array([[12.]], dtype=float32)>"
      ]
     },
     "execution_count": 11,
     "metadata": {},
     "output_type": "execute_result"
    }
   ],
   "source": [
    "tf.matmul(matrix_1, tf.transpose(matrix_2))"
   ]
  },
  {
   "cell_type": "markdown",
   "id": "f8f90c95",
   "metadata": {},
   "source": [
    "# Dtype str"
   ]
  },
  {
   "cell_type": "code",
   "execution_count": 20,
   "id": "788cd894",
   "metadata": {},
   "outputs": [
    {
     "name": "stdout",
     "output_type": "stream",
     "text": [
      "tf.Tensor(b'Hello', shape=(), dtype=string)\n",
      "b'Hello'\n",
      "Hello\n",
      "Hello\n"
     ]
    }
   ],
   "source": [
    "tensor_str = tf.constant(\"Hello\")\n",
    "print(tensor_str)\n",
    "print(tensor_str.numpy())\n",
    "print(tensor_str.numpy().decode(\"utf-8\"))\n",
    "print(tensor_str.numpy().decode(\"cp932\"))"
   ]
  },
  {
   "cell_type": "markdown",
   "id": "7907d26d",
   "metadata": {},
   "source": [
    "# tf.function"
   ]
  },
  {
   "cell_type": "code",
   "execution_count": 27,
   "id": "6524ffa2",
   "metadata": {},
   "outputs": [],
   "source": [
    "import timeit\n",
    "\n",
    "def a_regular_function(x, y, b):\n",
    "    return tf.matmul(x, y) + b\n",
    "\n",
    "a_function_that_uses_a_graph = tf.function(a_regular_function)\n",
    "\n",
    "x1 = tf.constant([[1., 2.]])\n",
    "y1 = tf.constant([[2.], [3.]])\n",
    "b1 = tf.constant(4.0)\n",
    "\n",
    "original_value = a_regular_function(x1, y1, b1).numpy()\n",
    "\n",
    "tf_function_value = a_function_that_uses_a_graph(x1, y1, b1).numpy()\n",
    "\n",
    "assert original_value == tf_function_value"
   ]
  },
  {
   "cell_type": "code",
   "execution_count": 29,
   "id": "cdf7099e",
   "metadata": {},
   "outputs": [
    {
     "data": {
      "text/plain": [
       "<tf.Tensor: id=83, shape=(1, 1), dtype=float32, numpy=array([[12.]], dtype=float32)>"
      ]
     },
     "execution_count": 29,
     "metadata": {},
     "output_type": "execute_result"
    }
   ],
   "source": [
    "def inner_function(x, y, b):\n",
    "    return tf.matmul(x, y) + b\n",
    "\n",
    "@tf.function\n",
    "def outer_function(x):\n",
    "    y = tf.constant([[2.], [3.]])\n",
    "    b = tf.constant(4.0)\n",
    "    return inner_function(x, y, b)\n",
    "\n",
    "\n",
    "outer_function(tf.constant([[1., 2.]]))"
   ]
  },
  {
   "cell_type": "markdown",
   "id": "4d9c676f",
   "metadata": {},
   "source": [
    "# tf.estimator"
   ]
  },
  {
   "cell_type": "markdown",
   "id": "38f64db9",
   "metadata": {},
   "source": [
    "# tf.data.Dataset"
   ]
  },
  {
   "cell_type": "markdown",
   "id": "1a394eb4",
   "metadata": {},
   "source": [
    "# tf.distributed"
   ]
  },
  {
   "cell_type": "markdown",
   "id": "103eaa6a",
   "metadata": {},
   "source": [
    "# TensorFlow Extended(TFX)"
   ]
  },
  {
   "cell_type": "markdown",
   "id": "d718c26e",
   "metadata": {},
   "source": [
    "# TensorFlow. js"
   ]
  },
  {
   "cell_type": "markdown",
   "id": "0ca5ce48",
   "metadata": {},
   "source": [
    "# TensorFlow Lite"
   ]
  },
  {
   "cell_type": "code",
   "execution_count": 12,
   "id": "1125c396",
   "metadata": {},
   "outputs": [
    {
     "ename": "AttributeError",
     "evalue": "module 'tensorflow' has no attribute 'Session'",
     "output_type": "error",
     "traceback": [
      "\u001b[1;31m---------------------------------------------------------------------------\u001b[0m",
      "\u001b[1;31mAttributeError\u001b[0m                            Traceback (most recent call last)",
      "\u001b[1;32m~\\AppData\\Local\\Temp/ipykernel_14072/3496270443.py\u001b[0m in \u001b[0;36m<module>\u001b[1;34m\u001b[0m\n\u001b[1;32m----> 1\u001b[1;33m \u001b[0msess\u001b[0m \u001b[1;33m=\u001b[0m \u001b[0mtf\u001b[0m\u001b[1;33m.\u001b[0m\u001b[0mSession\u001b[0m\u001b[1;33m(\u001b[0m\u001b[1;33m)\u001b[0m\u001b[1;33m\u001b[0m\u001b[1;33m\u001b[0m\u001b[0m\n\u001b[0m",
      "\u001b[1;31mAttributeError\u001b[0m: module 'tensorflow' has no attribute 'Session'"
     ]
    }
   ],
   "source": [
    "sess = tf.Session()"
   ]
  },
  {
   "cell_type": "code",
   "execution_count": null,
   "id": "9c747f76",
   "metadata": {},
   "outputs": [],
   "source": []
  },
  {
   "cell_type": "code",
   "execution_count": 38,
   "id": "35088af7",
   "metadata": {},
   "outputs": [
    {
     "name": "stderr",
     "output_type": "stream",
     "text": [
      "100%|██████████████████████████████████████████████████████████████████████████████████| 10/10 [00:10<00:00,  1.01s/it]\n"
     ]
    }
   ],
   "source": [
    "from glob import glob\n",
    "import os\n",
    "from tqdm import tqdm\n",
    "\n",
    "import time\n",
    "for i in tqdm(range(10)):\n",
    "#     print(i)\n",
    "    a = 9\n",
    "    time.sleep(1)"
   ]
  }
 ],
 "metadata": {
  "kernelspec": {
   "display_name": "Python 3 (ipykernel)",
   "language": "python",
   "name": "python3"
  },
  "language_info": {
   "codemirror_mode": {
    "name": "ipython",
    "version": 3
   },
   "file_extension": ".py",
   "mimetype": "text/x-python",
   "name": "python",
   "nbconvert_exporter": "python",
   "pygments_lexer": "ipython3",
   "version": "3.7.9"
  }
 },
 "nbformat": 4,
 "nbformat_minor": 5
}

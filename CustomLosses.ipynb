{
 "cells": [
  {
   "cell_type": "markdown",
   "id": "4a8056b2",
   "metadata": {},
   "source": [
    "# Import"
   ]
  },
  {
   "cell_type": "code",
   "execution_count": 13,
   "id": "ce123949",
   "metadata": {},
   "outputs": [],
   "source": [
    "from tensorflow.keras.losses import Loss\n",
    "import tensorflow.keras.backend as K\n",
    "import tensorflow as tf"
   ]
  },
  {
   "cell_type": "markdown",
   "id": "59b84028",
   "metadata": {},
   "source": [
    "# Cross Entropy Loss"
   ]
  },
  {
   "cell_type": "code",
   "execution_count": null,
   "id": "61ca6c53",
   "metadata": {},
   "outputs": [],
   "source": [
    "class CrossEntropyLoss(Loss):\n",
    "    def __init__(self, **kwargs):\n",
    "        super(CrossEntropyLoss, self).__init__(**kwargs)\n",
    "        self.delta = 1e-7\n",
    "    def __call__(self, y_pred, y_true):\n",
    "        return -K.sum(K.cast_to_floatx(y_true) * K.log(K.l2_normalize(K.cast_to_floatx(y_pred)) + self.delta))"
   ]
  },
  {
   "cell_type": "code",
   "execution_count": 22,
   "id": "00189aa8",
   "metadata": {},
   "outputs": [
    {
     "name": "stdout",
     "output_type": "stream",
     "text": [
      "tf.Tensor(0.06837557, shape=(), dtype=float32)\n",
      "tf.Tensor(16.118095, shape=(), dtype=float32)\n"
     ]
    }
   ],
   "source": [
    "input_tensor_pred1 = tf.constant([0.1, 0.03, 0.05, 0.2, 0.9, 0.0, 0.1, 0.2, 0.12, 0.03])\n",
    "input_tensor_pred2 = tf.constant([0.1, 0.03, 0.05, 0.2, 0.0, 0.1, 0.2, 0.12, 0.03, 0.9])\n",
    "input_tensor_true = tf.constant([0, 0, 0, 0, 1, 0, 0, 0, 0, 0])\n",
    "loss = CrossEntropyLoss()\n",
    "\n",
    "print(loss(input_tensor_pred1, input_tensor_true))\n",
    "print(loss(input_tensor_pred2, input_tensor_true))"
   ]
  },
  {
   "cell_type": "markdown",
   "id": "476cbafa",
   "metadata": {},
   "source": []
  }
 ],
 "metadata": {
  "kernelspec": {
   "display_name": "Python 3 (ipykernel)",
   "language": "python",
   "name": "python3"
  },
  "language_info": {
   "codemirror_mode": {
    "name": "ipython",
    "version": 3
   },
   "file_extension": ".py",
   "mimetype": "text/x-python",
   "name": "python",
   "nbconvert_exporter": "python",
   "pygments_lexer": "ipython3",
   "version": "3.7.9"
  }
 },
 "nbformat": 4,
 "nbformat_minor": 5
}
